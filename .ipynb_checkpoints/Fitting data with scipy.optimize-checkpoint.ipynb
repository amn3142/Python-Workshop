{
 "cells": [
  {
   "cell_type": "code",
   "execution_count": 5,
   "metadata": {
    "collapsed": true
   },
   "outputs": [],
   "source": [
    "import numpy as np\n",
    "\n",
    "\n",
    "##### load in the data from the file, make sure that you are pointing the program to the correct location on \n",
    "###   your harddrive. Jupyter doesn't seem to like the ~ abbreviation for the home directory btw\n",
    "data = np.loadtxt('/Users/amn01/haloMass_StellarMass.dat')"
   ]
  },
  {
   "cell_type": "code",
   "execution_count": 6,
   "metadata": {
    "collapsed": true
   },
   "outputs": [],
   "source": [
    "###the file columns are: 0)stellar masses, 1) ratio of halo mass to stellar mass, 2) = Uncertainty \n",
    "stellarMasses= data[:,0]\n",
    "haloMass_stellarMass= data[:,1]\n",
    "haloMass_stellarMass_uncertainty = data[:,2]"
   ]
  },
  {
   "cell_type": "code",
   "execution_count": 7,
   "metadata": {},
   "outputs": [
    {
     "data": {
      "image/png": "[encoded data removed]",
      "text/plain": [
       "<matplotlib.figure.Figure at 0x104725f10>"
      ]
     },
     "metadata": {},
     "output_type": "display_data"
    }
   ],
   "source": [
    "### take a look at the data with an errorbar plot, note that the fmt = '.' tells errorbar that you want to plot the \n",
    "### data with individual unconnected points\n",
    "import pylab as plt\n",
    "plt.errorbar(stellarMasses,haloMass_stellarMass,yerr = haloMass_stellarMass_uncertainty,fmt = '.')\n",
    "plt.xlabel('Stellar Mass')\n",
    "plt.ylabel('Measured haloMass/stellarMass')\n",
    "plt.show()"
   ]
  },
  {
   "cell_type": "code",
   "execution_count": 8,
   "metadata": {
    "collapsed": true
   },
   "outputs": [],
   "source": [
    "##ok I have reason to believe that the relationship between haloMass/stellarMass and stellarMass goes like \n",
    "### ~ haloMassToStellarMass~ A*(stellarMasses/m_o)**alpha*(1+(stellarMasses/mo)**2)**0.5\n",
    "## next step: define a function that takes in values for the parameters A, m_o and alpha and\n",
    "#returns a model haloMass/stellarMass value, I can compare to data\n"
   ]
  },
  {
   "cell_type": "code",
   "execution_count": 10,
   "metadata": {},
   "outputs": [
    {
     "data": {
      "image/png": "[encoded data removed]",
      "text/plain": [
       "<matplotlib.figure.Figure at 0x103c37dd0>"
      ]
     },
     "metadata": {},
     "output_type": "display_data"
    }
   ],
   "source": [
    "###all those points at low values are squished togehter so let's try a log scale\n",
    "plt.errorbar(stellarMasses,haloMass_stellarMass,yerr = haloMass_stellarMass_uncertainty,fmt = '.')\n",
    "plt.xlabel('Stellar Mass')\n",
    "plt.ylabel('Measured haloMass/stellarMass')\n",
    "plt.loglog()\n",
    "plt.show()"
   ]
  },
  {
   "cell_type": "code",
   "execution_count": 24,
   "metadata": {
    "collapsed": true
   },
   "outputs": [],
   "source": [
    "def model_sm_hm(stellarMasses,modelParameterValues):\n",
    "    A,m_o,alpha = modelParameterValues\n",
    "    xs = m_o/stellarMasses\n",
    "    sm_hm = A*xs**alpha*(1+xs**2)**0.5\n",
    "    return sm_hm\n",
    "    "
   ]
  },
  {
   "cell_type": "code",
   "execution_count": 37,
   "metadata": {},
   "outputs": [
    {
     "data": {
      "image/png": "[encoded data removed]",
      "text/plain": [
       "<matplotlib.figure.Figure at 0x10d8271d0>"
      ]
     },
     "metadata": {},
     "output_type": "display_data"
    }
   ],
   "source": [
    "### I can try out some parameter values myself:\n",
    "A = 70.\n",
    "alpha = -0.2\n",
    "m_o = 10**8.\n",
    "##make a list with the model parameters\n",
    "tmodelPars = [A,m_o,alpha]\n",
    "\n",
    "parameterOutput1 = model_sm_hm(stellarMasses,tmodelPars)\n",
    "### compare the output from these model parameters to the data\n",
    "plt.errorbar(stellarMasses,haloMass_stellarMass,yerr = haloMass_stellarMass_uncertainty,fmt = '.')\n",
    "plt.plot(stellarMasses,parameterOutput1)\n",
    "plt.loglog()\n",
    "plt.show()\n",
    "\n"
   ]
  },
  {
   "cell_type": "code",
   "execution_count": 40,
   "metadata": {},
   "outputs": [
    {
     "name": "stdout",
     "output_type": "stream",
     "text": [
      "244.481951566\n"
     ]
    }
   ],
   "source": [
    "### Let's quantify how bad the model fit is by calculating the xi-squared\n",
    "def xisq(modelParameters,stellarMasses,dataYVals,dataYValsUncertainties):\n",
    "    modelys = model_sm_hm(stellarMasses,modelParameters)\n",
    "    xisq = (dataYVals-modelys)**2/dataYValsUncertainties**2\n",
    "    return xisq.sum()\n",
    "\n",
    "print xisq(tmodelPars,stellarMasses,haloMass_stellarMass,haloMass_stellarMass_uncertainty)\n",
    "\n"
   ]
  },
  {
   "cell_type": "code",
   "execution_count": 41,
   "metadata": {},
   "outputs": [
    {
     "name": "stdout",
     "output_type": "stream",
     "text": [
      "Warning: Maximum number of function evaluations has been exceeded.\n",
      "[  7.72190396e+01   6.53805088e+10  -8.49623336e-01]\n"
     ]
    }
   ],
   "source": [
    "### Not a great xisq, so let's let the python optimize function find some better parameters, \n",
    "#I give it my lame attempt as a starting point (tmodelPars).\n",
    "##Note that fmin has a weird format, it takes a function name as its first input, the model parameters as its second\n",
    "## and all other parameters that the function needs go parentheses under args. I don't know any other function that \n",
    "## works like this. The upshot is when defining the function you want to minimize, the first input to THAT function\n",
    "## has to be the list of model parameters\n",
    "import scipy\n",
    "from scipy import optimize\n",
    "\n",
    "bestFitParameters = scipy.optimize.fmin(xisq,tmodelPars,args = (stellarMasses,haloMass_stellarMass,haloMass_stellarMass_uncertainty))\n",
    "print bestFitParameters\n",
    "\n"
   ]
  },
  {
   "cell_type": "code",
   "execution_count": 42,
   "metadata": {
    "collapsed": true
   },
   "outputs": [],
   "source": [
    "## I get a maximum number of function evaluations exceeded, so I can re-run starting at the point where the last one ended,\n",
    "## or I can increase the number of function evaluations allowed using the optional parameter maxiter\n",
    "\n",
    "bestFitParameters = scipy.optimize.fmin(xisq,tmodelPars,\n",
    "                                        args = (stellarMasses,haloMass_stellarMass,haloMass_stellarMass_uncertainty),\n",
    "                                        maxiter = 1e3)\n",
    "\n",
    "\n",
    "\n"
   ]
  },
  {
   "cell_type": "code",
   "execution_count": null,
   "metadata": {
    "collapsed": true
   },
   "outputs": [],
   "source": []
  },
  {
   "cell_type": "code",
   "execution_count": null,
   "metadata": {
    "collapsed": true
   },
   "outputs": [],
   "source": []
  }
 ],
 "metadata": {
  "kernelspec": {
   "display_name": "Python 2",
   "language": "python",
   "name": "python2"
  },
  "language_info": {
   "codemirror_mode": {
    "name": "ipython",
    "version": 2
   },
   "file_extension": ".py",
   "mimetype": "text/x-python",
   "name": "python",
   "nbconvert_exporter": "python",
   "pygments_lexer": "ipython2",
   "version": "2.7.14"
  }
 },
 "nbformat": 4,
 "nbformat_minor": 2
}
